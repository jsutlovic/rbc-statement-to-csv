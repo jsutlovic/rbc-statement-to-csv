{
 "cells": [
  {
   "cell_type": "code",
   "execution_count": 199,
   "id": "ab508f8f-a551-48f4-80c1-641bb071da26",
   "metadata": {},
   "outputs": [],
   "source": [
    "import xml.etree.ElementTree as ET\n",
    "from typing import NamedTuple\n",
    "import itertools\n",
    "import json\n",
    "from decimal import Decimal\n",
    "from itertools import groupby, starmap\n",
    "from functools import cmp_to_key\n",
    "from typing import List"
   ]
  },
  {
   "cell_type": "code",
   "execution_count": 157,
   "id": "e2966756-ecad-4bfa-b360-56cef0b864b1",
   "metadata": {},
   "outputs": [],
   "source": [
    "tree = ET.parse(\"test_may_2023.xml\")"
   ]
  },
  {
   "cell_type": "code",
   "execution_count": 158,
   "id": "c1d01973-ae8b-44f5-9357-b8f9748f57c6",
   "metadata": {},
   "outputs": [],
   "source": [
    "root = tree.getroot()\n",
    "alltext = root.findall(\".//text\")"
   ]
  },
  {
   "cell_type": "code",
   "execution_count": 211,
   "id": "fa741a4f-9e68-4cb8-9aaf-adb138827edf",
   "metadata": {},
   "outputs": [
    {
     "name": "stdout",
     "output_type": "stream",
     "text": [
      "TextChar(char=None, font='EOUWVZ+Utopia-Bold', bbox=BBox(left=136.26, top=728.144, right=140.612, bottom=736.016), size=7.872)\n"
     ]
    }
   ],
   "source": [
    "BBox = NamedTuple(\"BBox\", [(\"left\", float), (\"top\", float), (\"right\", float), (\"bottom\", float)])\n",
    "TextChar = NamedTuple(\"TextChar\", [(\"char\", str), (\"font\", str), (\"bbox\", BBox), (\"size\", float)])\n",
    "Text = NamedTuple(\"Text\", [(\"text\", str), (\"font\", str), (\"bbox\", BBox), (\"size\", float)])\n",
    "TextLine = NamedTuple(\"TextLine\", [(\"fields\", List[Text])])\n",
    "\n",
    "def process_bbox(tag: ET.Element) -> BBox:\n",
    "    # Expect a comma-separated list of 4 coordinates in order: left, top, right, bottom\n",
    "    # Parse them into a list of strings\n",
    "    str_coords = tag.attrib.get(\"bbox\", \"0,0,0,0\").split(\",\")\n",
    "    # Use map to convert to a list of floats\n",
    "    coords = map(float, str_coords)\n",
    "    # Unpack coords\n",
    "    return BBox(*coords)\n",
    "\n",
    "def process_text_char(tag: ET.Element) -> TextChar:\n",
    "    bbox = process_bbox(tag)\n",
    "    text_dict = {\n",
    "        \"char\": tag.text,\n",
    "        \"font\": tag.attrib.get(\"font\", \"Nofont\"),\n",
    "        \"size\": float(tag.attrib.get(\"size\", \"0\")),\n",
    "        \"bbox\": bbox,\n",
    "    }\n",
    "    return TextChar(**text_dict)\n",
    "\n",
    "test_text = ET.Element(\"text\", {'font': 'EOUWVZ+Utopia-Bold', 'bbox': '136.260,728.144,140.612,736.016', 'size': '7.872'}, text=\"a\")\n",
    "print(process_text_char(test_text))"
   ]
  },
  {
   "cell_type": "code",
   "execution_count": 171,
   "id": "e82ed2cd-3e98-44b2-84f4-8f0fdc59810d",
   "metadata": {},
   "outputs": [],
   "source": [
    "# Naive calculation of a bounding box for all text\n",
    "def grouped_bbox(el: List[TextChar|LinePart]) -> BBox:\n",
    "    first = el[0]\n",
    "    last = el[-1]\n",
    "    return BBox(first.bbox.left, first.bbox.top, last.bbox.right, last.bbox.bottom)\n",
    "\n",
    "# Grouping for a consecutive string of characters\n",
    "def proccess_text(chars: List[TextChar]) -> Text:\n",
    "    text = \"\".join([tc.char for tc in chars])\n",
    "    first = chars[0]\n",
    "    bbox = grouped_bbox(chars)\n",
    "    font = first.font\n",
    "    size = first.size\n",
    "    return Text(text=text, font=font, bbox=bbox, size=size)"
   ]
  },
  {
   "cell_type": "code",
   "execution_count": 66,
   "id": "1f3dbfb1-56ec-4380-9c02-ce485613994f",
   "metadata": {},
   "outputs": [
    {
     "name": "stdout",
     "output_type": "stream",
     "text": [
      "LinePart(width=5, bbox=BBox(left=583.0, top=308.75, right=584.0, bottom=308.75))\n"
     ]
    }
   ],
   "source": [
    "LinePart = NamedTuple(\"LinePart\", [(\"width\", int), (\"bbox\", BBox)])\n",
    "Line = NamedTuple(\"Line\", [(\"width\", int), (\"bbox\", BBox)])\n",
    "\n",
    "def process_line_part(tag: ET.Element) -> LinePart:\n",
    "    bbox = process_bbox(tag)\n",
    "    width = int(tag.attrib.get(\"linewidth\", \"0\"))\n",
    "    return LinePart(width, bbox)\n",
    "\n",
    "test_line = ET.Element(\"line\", {\"linewidth\": 5, \"bbox\": \"583.000,308.750,584.000,308.750\"})\n",
    "print(process_line_part(test_line))"
   ]
  },
  {
   "cell_type": "code",
   "execution_count": 178,
   "id": "38003f0e-177f-4c4c-9543-db3a8fa770df",
   "metadata": {},
   "outputs": [],
   "source": [
    "Grouping = NamedTuple(\"Grouping\", [(\"type\", type), (\"top\", float)])\n",
    "\n",
    "def group_text_horizontal(textchars: List[TextChar]) -> List[Text]:\n",
    "    groups = []\n",
    "    cur_group = []\n",
    "\n",
    "    # Check each pair of TextChars\n",
    "    for a,b in itertools.pairwise(textchars):\n",
    "        cur_group.append(a)\n",
    "        t = abs(a.bbox.right - b.bbox.left)\n",
    "\n",
    "        # Gaps of > 5 are separate text chunks\n",
    "        if t > 5:\n",
    "            groups.append(cur_group)\n",
    "            cur_group = []\n",
    "\n",
    "        # Gaps of <= 5 and > 0.7 are spaces\n",
    "        elif t > 0.7:\n",
    "            space_bbox = BBox(a.bbox.right, a.bbox.top, b.bbox.left, b.bbox.bottom)\n",
    "            space = TextChar(char=\" \", font=a.font, bbox=space_bbox, size=a.size)\n",
    "            cur_group.append(space)\n",
    "\n",
    "    else:\n",
    "        cur_group.append(b)\n",
    "        groups.append(cur_group)\n",
    "\n",
    "    return groups\n"
   ]
  },
  {
   "cell_type": "code",
   "execution_count": 212,
   "id": "6aba2975-b1b0-45ad-943c-667481553576",
   "metadata": {},
   "outputs": [],
   "source": [
    "filter_start = \"Details of your account\"\n",
    "transaction_fields = [\"date\", \"description\", \"withdrawals\", \"deposits\", \"balance\"]\n",
    "transaction_field_types = [str, str, Decimal, Decimal, Decimal]\n",
    "Transaction = NamedTuple(\"Transaction\", list(zip(transaction_fields, transaction_field_types)))"
   ]
  },
  {
   "cell_type": "code",
   "execution_count": 206,
   "id": "33d7f932-1761-4997-afcf-3896bc1e0d4b",
   "metadata": {},
   "outputs": [
    {
     "data": {
      "text/plain": [
       "True"
      ]
     },
     "execution_count": 206,
     "metadata": {},
     "output_type": "execute_result"
    }
   ],
   "source": [
    "def validate_transaction_headers(header_text: List[Text]) -> bool:\n",
    "    # Expect at least first 4 headers\n",
    "    if len(header_text) != len(transaction_fields):\n",
    "        return False\n",
    "\n",
    "    # Ensure headers are Text types\n",
    "    types_match = [type(text) == Text for text in header_text]\n",
    "    if not all(types_match):\n",
    "        return False\n",
    "    \n",
    "    # Ensure all header text fields match expected transaction fields\n",
    "    fields_match = [\n",
    "        header_text.text.lower().startswith(fieldname)\n",
    "        for header_text, fieldname in zip(header_text, transaction_fields)\n",
    "    ]\n",
    "    return all(fields_match)\n",
    "\n",
    "extracted_headers = [\n",
    "    Text(text='Date', font='GQYEOP+MetaBoldLF-Roman', bbox=BBox(left=16.8, top=634.928, right=32.618, bottom=643.008), size=8.08),\n",
    "    Text(text='Description', font='GQYEOP+MetaBoldLF-Roman', bbox=BBox(left=61.92, top=634.928, right=101.322, bottom=643.008), size=8.08),\n",
    "    Text(text='Withdrawals ($)', font='GQYEOP+MetaBoldLF-Roman', bbox=BBox(left=290.88, top=634.928, right=344.925, bottom=643.008), size=8.08),\n",
    "    Text(text='Deposits ($)', font='GQYEOP+MetaBoldLF-Roman', bbox=BBox(left=395.52, top=634.928, right=437.085, bottom=643.008), size=8.08),\n",
    "    Text(text='Balance ($)', font='GQYEOP+MetaBoldLF-Roman', bbox=BBox(left=526.56, top=634.928, right=565.005, bottom=643.008), size=8.08),\n",
    "]\n",
    "validate_transaction_headers(extracted_headers)"
   ]
  },
  {
   "cell_type": "code",
   "execution_count": 214,
   "id": "e2708c76-5ab9-41fd-bf25-9a49a202bf85",
   "metadata": {},
   "outputs": [
    {
     "name": "stdout",
     "output_type": "stream",
     "text": [
      "Processing page 1\n"
     ]
    },
    {
     "ename": "IndexError",
     "evalue": "pop from empty list",
     "output_type": "error",
     "traceback": [
      "\u001b[0;31m---------------------------------------------------------------------------\u001b[0m",
      "\u001b[0;31mIndexError\u001b[0m                                Traceback (most recent call last)",
      "Cell \u001b[0;32mIn[214], line 96\u001b[0m\n\u001b[1;32m     92\u001b[0m         all_transformed\u001b[38;5;241m.\u001b[39mappend(page_transactions)\n\u001b[1;32m     94\u001b[0m     \u001b[38;5;28;01mreturn\u001b[39;00m all_transformed\n\u001b[0;32m---> 96\u001b[0m processed_xml \u001b[38;5;241m=\u001b[39m \u001b[43mprocess_xml\u001b[49m\u001b[43m(\u001b[49m\u001b[43mroot\u001b[49m\u001b[43m)\u001b[49m\n",
      "Cell \u001b[0;32mIn[214], line 81\u001b[0m, in \u001b[0;36mprocess_xml\u001b[0;34m(root)\u001b[0m\n\u001b[1;32m     78\u001b[0m page_transactions \u001b[38;5;241m=\u001b[39m []\n\u001b[1;32m     80\u001b[0m \u001b[38;5;66;03m# Verify headers\u001b[39;00m\n\u001b[0;32m---> 81\u001b[0m header_text \u001b[38;5;241m=\u001b[39m page_lines\u001b[38;5;241m.\u001b[39mpop(\u001b[38;5;241m0\u001b[39m)\n\u001b[1;32m     82\u001b[0m \u001b[38;5;66;03m# header_text = page_lines[0]\u001b[39;00m\n\u001b[1;32m     83\u001b[0m \u001b[38;5;28;01mif\u001b[39;00m \u001b[38;5;129;01mnot\u001b[39;00m validate_transaction_headers(header_text):\n\u001b[1;32m     84\u001b[0m     \u001b[38;5;66;03m# Skip the rest of this page if it doesn't match what we expect\u001b[39;00m\n",
      "\u001b[0;31mIndexError\u001b[0m: pop from empty list"
     ]
    }
   ],
   "source": [
    "def process_xml(root: ET.Element) -> List[Text|Line]:\n",
    "    # XML output is organized by page\n",
    "    pages = root.findall(\".//page\")\n",
    "    all_transformed = []\n",
    "    for page in pages:\n",
    "        # Page ID should be page number\n",
    "        page_id = page.attrib.get(\"id\", None)\n",
    "        if not page_id:\n",
    "            print(\"Page ID is ????\")\n",
    "        else:\n",
    "            print(f\"Processing page {page_id}\")\n",
    "    \n",
    "        page_lines = []\n",
    "\n",
    "        # Find everything with a bbox (lines, text, etc) attribute\n",
    "        elements = page.findall(\".//*[@bbox]\")\n",
    "        transformed_elements = []\n",
    "    \n",
    "        # Transform elements we care about into simpler data\n",
    "        for e in elements:\n",
    "            te = None\n",
    "            if e.tag == \"text\":\n",
    "                te = process_text_char(e)\n",
    "            elif e.tag == \"line\":\n",
    "                te = process_line_part(e)\n",
    "    \n",
    "            if te:\n",
    "                transformed_elements.append(te)\n",
    "\n",
    "        # As we parse through grouped data, decide whether we should include it\n",
    "        # For RBC Chequing statements, we look for \"Details of your account activity\"\n",
    "        # and keep everything after\n",
    "        relevant_data = False\n",
    "\n",
    "        # Group consecutive elements that align horizontally\n",
    "        # Processing lines allows us to split up text\n",
    "        for k, g in groupby(transformed_elements, lambda tc: Grouping(type(tc), tc.bbox.top)):\n",
    "            gl = list(g)\n",
    "    \n",
    "            first = gl[0]\n",
    "            group_bbox = grouped_bbox(gl)\n",
    "\n",
    "            last_text_line = TextLine([])\n",
    "    \n",
    "            # Create a Line out of LineParts. This logic is pretty naive but it's not that important\n",
    "            # We just use Lines as separators to simplify data capture\n",
    "            if k.type == LinePart:\n",
    "                if relevant_data:\n",
    "                    line = Line(first.width, group_bbox)\n",
    "                    page_lines.append(line)\n",
    "                    page_lines.append(last_text_line)\n",
    "                    last_text_line = TextLine([])\n",
    "\n",
    "            # Create a group of Text objects from a group of TextChars\n",
    "            elif k.type == TextChar:\n",
    "                text = \"\".join([tc.char for tc in gl])\n",
    "    \n",
    "                # Skip irrelevant single character groups\n",
    "                if len(text) == 1:\n",
    "                    continue\n",
    "    \n",
    "                # Group text by closeness of character bboxes\n",
    "                text_groups = group_text_horizontal(gl)\n",
    "                for ltext in text_groups:\n",
    "                    text = proccess_text(ltext)\n",
    "                    last_text_line.fields.append(text)\n",
    "\n",
    "            # Process all data after \"Details of your account\"\n",
    "            # This may not be consistent\n",
    "            if text.text.startswith(filter_start):\n",
    "                relevant_data = True\n",
    "    \n",
    "\n",
    "        else:\n",
    "            # Cleanup any missed text that isn't followed by a Line\n",
    "            if k.type == TextChar:\n",
    "                page_lines.append(last_text_line)\n",
    "\n",
    "        ##### Process lines into transactions\n",
    "        page_transactions = []\n",
    "        \n",
    "        # Verify headers\n",
    "        header_text = page_lines.pop(0)\n",
    "        # header_text = page_lines[0]\n",
    "        if not validate_transaction_headers(header_text):\n",
    "            # Skip the rest of this page if it doesn't match what we expect\n",
    "            print(f\"ERROR: Incorrect transaction headers for page: {header_text}\")\n",
    "            continue\n",
    "\n",
    "        cur_transaction = Transaction(\"\", \"\", \"\", \"\", \"\")\n",
    "        for item in page_lines:\n",
    "            print(item)\n",
    "\n",
    "        all_transformed.append(page_transactions)\n",
    "    \n",
    "    return all_transformed\n",
    "\n",
    "processed_xml = process_xml(root)"
   ]
  },
  {
   "cell_type": "code",
   "execution_count": null,
   "id": "338b4a9b-531b-48ed-b3d1-2c538edcd324",
   "metadata": {},
   "outputs": [],
   "source": [
    "print(json.dumps(processed_xml, indent=2))"
   ]
  }
 ],
 "metadata": {
  "kernelspec": {
   "display_name": "Python 3 (ipykernel)",
   "language": "python",
   "name": "python3"
  },
  "language_info": {
   "codemirror_mode": {
    "name": "ipython",
    "version": 3
   },
   "file_extension": ".py",
   "mimetype": "text/x-python",
   "name": "python",
   "nbconvert_exporter": "python",
   "pygments_lexer": "ipython3",
   "version": "3.11.4"
  }
 },
 "nbformat": 4,
 "nbformat_minor": 5
}
